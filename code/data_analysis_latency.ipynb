{
 "cells": [
  {
   "cell_type": "code",
   "execution_count": 1,
   "metadata": {},
   "outputs": [],
   "source": [
    "import pandas as pd\n",
    "from datetime import datetime"
   ]
  },
  {
   "cell_type": "code",
   "execution_count": 2,
   "metadata": {},
   "outputs": [],
   "source": [
    "df1 = pd.read_csv('motor_value_elbow_final.csv')\n",
    "df2 = pd.read_csv('motor_value_wrist_final.csv')\n",
    "\n",
    "df1 = df1[40:]\n",
    "df1 = df1.reset_index(drop=True)\n",
    "df2 = df2[40:]\n",
    "df2 = df2.reset_index(drop=True)\n",
    "\n",
    "df = pd.concat([df1, df2])"
   ]
  },
  {
   "cell_type": "markdown",
   "metadata": {},
   "source": [
    "Getting rid of the first few lines where the timestamps are not yet syncronized"
   ]
  },
  {
   "cell_type": "code",
   "execution_count": 3,
   "metadata": {},
   "outputs": [],
   "source": [
    "df = df[40:]\n",
    "df = df.reset_index(drop=True)"
   ]
  },
  {
   "cell_type": "code",
   "execution_count": 4,
   "metadata": {},
   "outputs": [
    {
     "data": {
      "text/html": [
       "<div>\n",
       "<style scoped>\n",
       "    .dataframe tbody tr th:only-of-type {\n",
       "        vertical-align: middle;\n",
       "    }\n",
       "\n",
       "    .dataframe tbody tr th {\n",
       "        vertical-align: top;\n",
       "    }\n",
       "\n",
       "    .dataframe thead th {\n",
       "        text-align: right;\n",
       "    }\n",
       "</style>\n",
       "<table border=\"1\" class=\"dataframe\">\n",
       "  <thead>\n",
       "    <tr style=\"text-align: right;\">\n",
       "      <th></th>\n",
       "      <th>Mqtt Timestamp</th>\n",
       "      <th>Unity Timestamp</th>\n",
       "      <th>Angle</th>\n",
       "    </tr>\n",
       "  </thead>\n",
       "  <tbody>\n",
       "    <tr>\n",
       "      <th>0</th>\n",
       "      <td>17:11:42.584387</td>\n",
       "      <td>17:11:42.981427</td>\n",
       "      <td>1195</td>\n",
       "    </tr>\n",
       "    <tr>\n",
       "      <th>1</th>\n",
       "      <td>17:11:42.623719</td>\n",
       "      <td>17:11:43.111081</td>\n",
       "      <td>1190</td>\n",
       "    </tr>\n",
       "    <tr>\n",
       "      <th>2</th>\n",
       "      <td>17:11:42.667795</td>\n",
       "      <td>17:11:43.186878</td>\n",
       "      <td>1170</td>\n",
       "    </tr>\n",
       "    <tr>\n",
       "      <th>3</th>\n",
       "      <td>17:11:42.703235</td>\n",
       "      <td>17:11:43.186878</td>\n",
       "      <td>1125</td>\n",
       "    </tr>\n",
       "    <tr>\n",
       "      <th>4</th>\n",
       "      <td>17:11:42.743341</td>\n",
       "      <td>17:11:43.232756</td>\n",
       "      <td>1050</td>\n",
       "    </tr>\n",
       "    <tr>\n",
       "      <th>...</th>\n",
       "      <td>...</td>\n",
       "      <td>...</td>\n",
       "      <td>...</td>\n",
       "    </tr>\n",
       "    <tr>\n",
       "      <th>7339</th>\n",
       "      <td>17:14:13.878890</td>\n",
       "      <td>17:14:14.291726</td>\n",
       "      <td>260</td>\n",
       "    </tr>\n",
       "    <tr>\n",
       "      <th>7340</th>\n",
       "      <td>17:14:13.916845</td>\n",
       "      <td>17:14:14.335609</td>\n",
       "      <td>260</td>\n",
       "    </tr>\n",
       "    <tr>\n",
       "      <th>7341</th>\n",
       "      <td>17:14:13.953547</td>\n",
       "      <td>17:14:14.335609</td>\n",
       "      <td>260</td>\n",
       "    </tr>\n",
       "    <tr>\n",
       "      <th>7342</th>\n",
       "      <td>17:14:13.990409</td>\n",
       "      <td>17:14:14.437337</td>\n",
       "      <td>260</td>\n",
       "    </tr>\n",
       "    <tr>\n",
       "      <th>7343</th>\n",
       "      <td>17:14:14.027076</td>\n",
       "      <td>17:14:14.437337</td>\n",
       "      <td>260</td>\n",
       "    </tr>\n",
       "  </tbody>\n",
       "</table>\n",
       "<p>7344 rows × 3 columns</p>\n",
       "</div>"
      ],
      "text/plain": [
       "       Mqtt Timestamp  Unity Timestamp   Angle\n",
       "0     17:11:42.584387  17:11:42.981427    1195\n",
       "1     17:11:42.623719  17:11:43.111081    1190\n",
       "2     17:11:42.667795  17:11:43.186878    1170\n",
       "3     17:11:42.703235  17:11:43.186878    1125\n",
       "4     17:11:42.743341  17:11:43.232756    1050\n",
       "...               ...              ...     ...\n",
       "7339  17:14:13.878890  17:14:14.291726     260\n",
       "7340  17:14:13.916845  17:14:14.335609     260\n",
       "7341  17:14:13.953547  17:14:14.335609     260\n",
       "7342  17:14:13.990409  17:14:14.437337     260\n",
       "7343  17:14:14.027076  17:14:14.437337     260\n",
       "\n",
       "[7344 rows x 3 columns]"
      ]
     },
     "execution_count": 4,
     "metadata": {},
     "output_type": "execute_result"
    }
   ],
   "source": [
    "df"
   ]
  },
  {
   "cell_type": "code",
   "execution_count": 5,
   "metadata": {},
   "outputs": [
    {
     "data": {
      "text/plain": [
       "Index(['Mqtt Timestamp', 'Unity Timestamp', ' Angle'], dtype='object')"
      ]
     },
     "execution_count": 5,
     "metadata": {},
     "output_type": "execute_result"
    }
   ],
   "source": [
    "df.rename(columns={' Unity Timestamp':'Unity Timestamp'}, inplace=True)\n",
    "df.columns"
   ]
  },
  {
   "cell_type": "code",
   "execution_count": 6,
   "metadata": {},
   "outputs": [],
   "source": [
    "df['Mqtt Timestamp'] = pd.to_datetime(df['Mqtt Timestamp'])\n",
    "df['Unity Timestamp'] = pd.to_datetime(df['Unity Timestamp'])"
   ]
  },
  {
   "cell_type": "code",
   "execution_count": 7,
   "metadata": {},
   "outputs": [
    {
     "data": {
      "text/plain": [
       "Timestamp('2020-06-25 17:11:42.981427')"
      ]
     },
     "execution_count": 7,
     "metadata": {},
     "output_type": "execute_result"
    }
   ],
   "source": [
    "df[\"Unity Timestamp\"][0]"
   ]
  },
  {
   "cell_type": "code",
   "execution_count": 8,
   "metadata": {},
   "outputs": [
    {
     "data": {
      "text/plain": [
       "Timedelta('0 days 00:00:00.519083')"
      ]
     },
     "execution_count": 8,
     "metadata": {},
     "output_type": "execute_result"
    }
   ],
   "source": [
    "df[\"Unity Timestamp\"][2] - df[\"Mqtt Timestamp\"][2]"
   ]
  },
  {
   "cell_type": "code",
   "execution_count": 9,
   "metadata": {},
   "outputs": [],
   "source": [
    "df['time_difference'] = df['Unity Timestamp'] - df['Mqtt Timestamp']"
   ]
  },
  {
   "cell_type": "code",
   "execution_count": 10,
   "metadata": {},
   "outputs": [
    {
     "data": {
      "text/html": [
       "<div>\n",
       "<style scoped>\n",
       "    .dataframe tbody tr th:only-of-type {\n",
       "        vertical-align: middle;\n",
       "    }\n",
       "\n",
       "    .dataframe tbody tr th {\n",
       "        vertical-align: top;\n",
       "    }\n",
       "\n",
       "    .dataframe thead th {\n",
       "        text-align: right;\n",
       "    }\n",
       "</style>\n",
       "<table border=\"1\" class=\"dataframe\">\n",
       "  <thead>\n",
       "    <tr style=\"text-align: right;\">\n",
       "      <th></th>\n",
       "      <th>Mqtt Timestamp</th>\n",
       "      <th>Unity Timestamp</th>\n",
       "      <th>Angle</th>\n",
       "      <th>time_difference</th>\n",
       "    </tr>\n",
       "  </thead>\n",
       "  <tbody>\n",
       "    <tr>\n",
       "      <th>0</th>\n",
       "      <td>2020-06-25 17:11:42.584387</td>\n",
       "      <td>2020-06-25 17:11:42.981427</td>\n",
       "      <td>1195</td>\n",
       "      <td>00:00:00.397040</td>\n",
       "    </tr>\n",
       "    <tr>\n",
       "      <th>1</th>\n",
       "      <td>2020-06-25 17:11:42.623719</td>\n",
       "      <td>2020-06-25 17:11:43.111081</td>\n",
       "      <td>1190</td>\n",
       "      <td>00:00:00.487362</td>\n",
       "    </tr>\n",
       "    <tr>\n",
       "      <th>2</th>\n",
       "      <td>2020-06-25 17:11:42.667795</td>\n",
       "      <td>2020-06-25 17:11:43.186878</td>\n",
       "      <td>1170</td>\n",
       "      <td>00:00:00.519083</td>\n",
       "    </tr>\n",
       "    <tr>\n",
       "      <th>3</th>\n",
       "      <td>2020-06-25 17:11:42.703235</td>\n",
       "      <td>2020-06-25 17:11:43.186878</td>\n",
       "      <td>1125</td>\n",
       "      <td>00:00:00.483643</td>\n",
       "    </tr>\n",
       "    <tr>\n",
       "      <th>4</th>\n",
       "      <td>2020-06-25 17:11:42.743341</td>\n",
       "      <td>2020-06-25 17:11:43.232756</td>\n",
       "      <td>1050</td>\n",
       "      <td>00:00:00.489415</td>\n",
       "    </tr>\n",
       "    <tr>\n",
       "      <th>...</th>\n",
       "      <td>...</td>\n",
       "      <td>...</td>\n",
       "      <td>...</td>\n",
       "      <td>...</td>\n",
       "    </tr>\n",
       "    <tr>\n",
       "      <th>7339</th>\n",
       "      <td>2020-06-25 17:14:13.878890</td>\n",
       "      <td>2020-06-25 17:14:14.291726</td>\n",
       "      <td>260</td>\n",
       "      <td>00:00:00.412836</td>\n",
       "    </tr>\n",
       "    <tr>\n",
       "      <th>7340</th>\n",
       "      <td>2020-06-25 17:14:13.916845</td>\n",
       "      <td>2020-06-25 17:14:14.335609</td>\n",
       "      <td>260</td>\n",
       "      <td>00:00:00.418764</td>\n",
       "    </tr>\n",
       "    <tr>\n",
       "      <th>7341</th>\n",
       "      <td>2020-06-25 17:14:13.953547</td>\n",
       "      <td>2020-06-25 17:14:14.335609</td>\n",
       "      <td>260</td>\n",
       "      <td>00:00:00.382062</td>\n",
       "    </tr>\n",
       "    <tr>\n",
       "      <th>7342</th>\n",
       "      <td>2020-06-25 17:14:13.990409</td>\n",
       "      <td>2020-06-25 17:14:14.437337</td>\n",
       "      <td>260</td>\n",
       "      <td>00:00:00.446928</td>\n",
       "    </tr>\n",
       "    <tr>\n",
       "      <th>7343</th>\n",
       "      <td>2020-06-25 17:14:14.027076</td>\n",
       "      <td>2020-06-25 17:14:14.437337</td>\n",
       "      <td>260</td>\n",
       "      <td>00:00:00.410261</td>\n",
       "    </tr>\n",
       "  </tbody>\n",
       "</table>\n",
       "<p>7344 rows × 4 columns</p>\n",
       "</div>"
      ],
      "text/plain": [
       "                 Mqtt Timestamp            Unity Timestamp   Angle  \\\n",
       "0    2020-06-25 17:11:42.584387 2020-06-25 17:11:42.981427    1195   \n",
       "1    2020-06-25 17:11:42.623719 2020-06-25 17:11:43.111081    1190   \n",
       "2    2020-06-25 17:11:42.667795 2020-06-25 17:11:43.186878    1170   \n",
       "3    2020-06-25 17:11:42.703235 2020-06-25 17:11:43.186878    1125   \n",
       "4    2020-06-25 17:11:42.743341 2020-06-25 17:11:43.232756    1050   \n",
       "...                         ...                        ...     ...   \n",
       "7339 2020-06-25 17:14:13.878890 2020-06-25 17:14:14.291726     260   \n",
       "7340 2020-06-25 17:14:13.916845 2020-06-25 17:14:14.335609     260   \n",
       "7341 2020-06-25 17:14:13.953547 2020-06-25 17:14:14.335609     260   \n",
       "7342 2020-06-25 17:14:13.990409 2020-06-25 17:14:14.437337     260   \n",
       "7343 2020-06-25 17:14:14.027076 2020-06-25 17:14:14.437337     260   \n",
       "\n",
       "     time_difference  \n",
       "0    00:00:00.397040  \n",
       "1    00:00:00.487362  \n",
       "2    00:00:00.519083  \n",
       "3    00:00:00.483643  \n",
       "4    00:00:00.489415  \n",
       "...              ...  \n",
       "7339 00:00:00.412836  \n",
       "7340 00:00:00.418764  \n",
       "7341 00:00:00.382062  \n",
       "7342 00:00:00.446928  \n",
       "7343 00:00:00.410261  \n",
       "\n",
       "[7344 rows x 4 columns]"
      ]
     },
     "execution_count": 10,
     "metadata": {},
     "output_type": "execute_result"
    }
   ],
   "source": [
    "df"
   ]
  },
  {
   "cell_type": "code",
   "execution_count": 11,
   "metadata": {},
   "outputs": [
    {
     "data": {
      "text/plain": [
       "Timedelta('0 days 00:00:00.568655')"
      ]
     },
     "execution_count": 11,
     "metadata": {},
     "output_type": "execute_result"
    }
   ],
   "source": [
    "mean_latency = df[\"time_difference\"].mean()\n",
    "mean_latency"
   ]
  },
  {
   "cell_type": "code",
   "execution_count": 12,
   "metadata": {},
   "outputs": [
    {
     "data": {
      "text/plain": [
       "Timedelta('0 days 00:00:00.376968')"
      ]
     },
     "execution_count": 12,
     "metadata": {},
     "output_type": "execute_result"
    }
   ],
   "source": [
    "min_latency = df[\"time_difference\"].min()\n",
    "min_latency"
   ]
  },
  {
   "cell_type": "code",
   "execution_count": 13,
   "metadata": {},
   "outputs": [
    {
     "data": {
      "text/plain": [
       "Timedelta('0 days 00:00:04.398487')"
      ]
     },
     "execution_count": 13,
     "metadata": {},
     "output_type": "execute_result"
    }
   ],
   "source": [
    "max_latency = df[\"time_difference\"].max()\n",
    "max_latency"
   ]
  },
  {
   "cell_type": "code",
   "execution_count": 14,
   "metadata": {},
   "outputs": [
    {
     "data": {
      "text/plain": [
       "Mqtt Timestamp     459\n",
       "Unity Timestamp    459\n",
       " Angle             459\n",
       "time_difference    459\n",
       "dtype: int64"
      ]
     },
     "execution_count": 14,
     "metadata": {},
     "output_type": "execute_result"
    }
   ],
   "source": [
    "more_than_onems = df[df[\"time_difference\"] > pd.Timedelta('0 days 00:00:01.000000')]\n",
    "more_than_onems.count()"
   ]
  },
  {
   "cell_type": "code",
   "execution_count": 15,
   "metadata": {},
   "outputs": [],
   "source": [
    "# df = pd.concat([df, more_than_onems]).drop_duplicates(keep=False)"
   ]
  },
  {
   "cell_type": "code",
   "execution_count": 16,
   "metadata": {},
   "outputs": [],
   "source": [
    "# df[\"time_difference\"].mean()"
   ]
  },
  {
   "cell_type": "code",
   "execution_count": 20,
   "metadata": {},
   "outputs": [],
   "source": [
    "df_local_breaks = pd.read_csv('exoskeleton_breaks.csv')\n",
    "df_local_nobreaks = pd.read_csv('exoskeleton_nobreaks.csv')\n",
    "\n",
    "df_local_breaks['timestamp'] = pd.to_datetime(df_local_breaks['timestamp'])\n",
    "df_local_nobreaks['timestamp'] = pd.to_datetime(df_local_nobreaks['timestamp'])"
   ]
  },
  {
   "cell_type": "code",
   "execution_count": 21,
   "metadata": {},
   "outputs": [
    {
     "data": {
      "text/html": [
       "<div>\n",
       "<style scoped>\n",
       "    .dataframe tbody tr th:only-of-type {\n",
       "        vertical-align: middle;\n",
       "    }\n",
       "\n",
       "    .dataframe tbody tr th {\n",
       "        vertical-align: top;\n",
       "    }\n",
       "\n",
       "    .dataframe thead th {\n",
       "        text-align: right;\n",
       "    }\n",
       "</style>\n",
       "<table border=\"1\" class=\"dataframe\">\n",
       "  <thead>\n",
       "    <tr style=\"text-align: right;\">\n",
       "      <th></th>\n",
       "      <th>value_wrist</th>\n",
       "      <th>value_elbow</th>\n",
       "      <th>timestamp</th>\n",
       "    </tr>\n",
       "  </thead>\n",
       "  <tbody>\n",
       "    <tr>\n",
       "      <th>0</th>\n",
       "      <td>0.0</td>\n",
       "      <td>0.0</td>\n",
       "      <td>2020-06-26 00:11:19.505765</td>\n",
       "    </tr>\n",
       "    <tr>\n",
       "      <th>1</th>\n",
       "      <td>0.0</td>\n",
       "      <td>0.0</td>\n",
       "      <td>2020-06-26 00:11:19.546627</td>\n",
       "    </tr>\n",
       "    <tr>\n",
       "      <th>2</th>\n",
       "      <td>0.0</td>\n",
       "      <td>0.0</td>\n",
       "      <td>2020-06-26 00:11:19.581966</td>\n",
       "    </tr>\n",
       "    <tr>\n",
       "      <th>3</th>\n",
       "      <td>0.0</td>\n",
       "      <td>0.0</td>\n",
       "      <td>2020-06-26 00:11:19.617446</td>\n",
       "    </tr>\n",
       "    <tr>\n",
       "      <th>4</th>\n",
       "      <td>0.0</td>\n",
       "      <td>0.0</td>\n",
       "      <td>2020-06-26 00:11:19.653513</td>\n",
       "    </tr>\n",
       "    <tr>\n",
       "      <th>...</th>\n",
       "      <td>...</td>\n",
       "      <td>...</td>\n",
       "      <td>...</td>\n",
       "    </tr>\n",
       "    <tr>\n",
       "      <th>831</th>\n",
       "      <td>0.0</td>\n",
       "      <td>35.0</td>\n",
       "      <td>2020-06-26 00:11:53.918992</td>\n",
       "    </tr>\n",
       "    <tr>\n",
       "      <th>832</th>\n",
       "      <td>0.0</td>\n",
       "      <td>35.0</td>\n",
       "      <td>2020-06-26 00:11:53.954869</td>\n",
       "    </tr>\n",
       "    <tr>\n",
       "      <th>833</th>\n",
       "      <td>0.0</td>\n",
       "      <td>35.0</td>\n",
       "      <td>2020-06-26 00:11:53.992405</td>\n",
       "    </tr>\n",
       "    <tr>\n",
       "      <th>834</th>\n",
       "      <td>0.0</td>\n",
       "      <td>35.0</td>\n",
       "      <td>2020-06-26 00:11:54.028560</td>\n",
       "    </tr>\n",
       "    <tr>\n",
       "      <th>835</th>\n",
       "      <td>program stopped</td>\n",
       "      <td>NaN</td>\n",
       "      <td>NaT</td>\n",
       "    </tr>\n",
       "  </tbody>\n",
       "</table>\n",
       "<p>836 rows × 3 columns</p>\n",
       "</div>"
      ],
      "text/plain": [
       "         value_wrist  value_elbow                  timestamp\n",
       "0                0.0          0.0 2020-06-26 00:11:19.505765\n",
       "1                0.0          0.0 2020-06-26 00:11:19.546627\n",
       "2                0.0          0.0 2020-06-26 00:11:19.581966\n",
       "3                0.0          0.0 2020-06-26 00:11:19.617446\n",
       "4                0.0          0.0 2020-06-26 00:11:19.653513\n",
       "..               ...          ...                        ...\n",
       "831              0.0         35.0 2020-06-26 00:11:53.918992\n",
       "832              0.0         35.0 2020-06-26 00:11:53.954869\n",
       "833              0.0         35.0 2020-06-26 00:11:53.992405\n",
       "834              0.0         35.0 2020-06-26 00:11:54.028560\n",
       "835  program stopped          NaN                        NaT\n",
       "\n",
       "[836 rows x 3 columns]"
      ]
     },
     "execution_count": 21,
     "metadata": {},
     "output_type": "execute_result"
    }
   ],
   "source": [
    "df_local_breaks"
   ]
  },
  {
   "cell_type": "code",
   "execution_count": 22,
   "metadata": {},
   "outputs": [
    {
     "data": {
      "text/html": [
       "<div>\n",
       "<style scoped>\n",
       "    .dataframe tbody tr th:only-of-type {\n",
       "        vertical-align: middle;\n",
       "    }\n",
       "\n",
       "    .dataframe tbody tr th {\n",
       "        vertical-align: top;\n",
       "    }\n",
       "\n",
       "    .dataframe thead th {\n",
       "        text-align: right;\n",
       "    }\n",
       "</style>\n",
       "<table border=\"1\" class=\"dataframe\">\n",
       "  <thead>\n",
       "    <tr style=\"text-align: right;\">\n",
       "      <th></th>\n",
       "      <th>value_wrist</th>\n",
       "      <th>value_elbow</th>\n",
       "      <th>timestamp</th>\n",
       "    </tr>\n",
       "  </thead>\n",
       "  <tbody>\n",
       "    <tr>\n",
       "      <th>0</th>\n",
       "      <td>0.0</td>\n",
       "      <td>0.0</td>\n",
       "      <td>2020-06-26 00:13:24.945779</td>\n",
       "    </tr>\n",
       "    <tr>\n",
       "      <th>1</th>\n",
       "      <td>0.0</td>\n",
       "      <td>0.0</td>\n",
       "      <td>2020-06-26 00:13:24.970198</td>\n",
       "    </tr>\n",
       "    <tr>\n",
       "      <th>2</th>\n",
       "      <td>0.0</td>\n",
       "      <td>0.0</td>\n",
       "      <td>2020-06-26 00:13:24.993159</td>\n",
       "    </tr>\n",
       "    <tr>\n",
       "      <th>3</th>\n",
       "      <td>0.0</td>\n",
       "      <td>0.0</td>\n",
       "      <td>2020-06-26 00:13:25.009301</td>\n",
       "    </tr>\n",
       "    <tr>\n",
       "      <th>4</th>\n",
       "      <td>0.0</td>\n",
       "      <td>0.0</td>\n",
       "      <td>2020-06-26 00:13:25.025944</td>\n",
       "    </tr>\n",
       "    <tr>\n",
       "      <th>...</th>\n",
       "      <td>...</td>\n",
       "      <td>...</td>\n",
       "      <td>...</td>\n",
       "    </tr>\n",
       "    <tr>\n",
       "      <th>1388</th>\n",
       "      <td>0.0</td>\n",
       "      <td>-6.0</td>\n",
       "      <td>2020-06-26 00:13:55.459179</td>\n",
       "    </tr>\n",
       "    <tr>\n",
       "      <th>1389</th>\n",
       "      <td>0.0</td>\n",
       "      <td>-6.0</td>\n",
       "      <td>2020-06-26 00:13:55.475623</td>\n",
       "    </tr>\n",
       "    <tr>\n",
       "      <th>1390</th>\n",
       "      <td>0.0</td>\n",
       "      <td>-6.0</td>\n",
       "      <td>2020-06-26 00:13:55.492295</td>\n",
       "    </tr>\n",
       "    <tr>\n",
       "      <th>1391</th>\n",
       "      <td>0.0</td>\n",
       "      <td>-6.0</td>\n",
       "      <td>2020-06-26 00:13:55.508216</td>\n",
       "    </tr>\n",
       "    <tr>\n",
       "      <th>1392</th>\n",
       "      <td>program stopped</td>\n",
       "      <td>NaN</td>\n",
       "      <td>NaT</td>\n",
       "    </tr>\n",
       "  </tbody>\n",
       "</table>\n",
       "<p>1393 rows × 3 columns</p>\n",
       "</div>"
      ],
      "text/plain": [
       "          value_wrist  value_elbow                  timestamp\n",
       "0                 0.0          0.0 2020-06-26 00:13:24.945779\n",
       "1                 0.0          0.0 2020-06-26 00:13:24.970198\n",
       "2                 0.0          0.0 2020-06-26 00:13:24.993159\n",
       "3                 0.0          0.0 2020-06-26 00:13:25.009301\n",
       "4                 0.0          0.0 2020-06-26 00:13:25.025944\n",
       "...               ...          ...                        ...\n",
       "1388              0.0         -6.0 2020-06-26 00:13:55.459179\n",
       "1389              0.0         -6.0 2020-06-26 00:13:55.475623\n",
       "1390              0.0         -6.0 2020-06-26 00:13:55.492295\n",
       "1391              0.0         -6.0 2020-06-26 00:13:55.508216\n",
       "1392  program stopped          NaN                        NaT\n",
       "\n",
       "[1393 rows x 3 columns]"
      ]
     },
     "execution_count": 22,
     "metadata": {},
     "output_type": "execute_result"
    }
   ],
   "source": [
    "df_local_nobreaks"
   ]
  },
  {
   "cell_type": "code",
   "execution_count": 27,
   "metadata": {},
   "outputs": [
    {
     "data": {
      "text/plain": [
       "pandas._libs.tslibs.timestamps.Timestamp"
      ]
     },
     "execution_count": 27,
     "metadata": {},
     "output_type": "execute_result"
    }
   ],
   "source": [
    "type(df_local_nobreaks['timestamp'][0])"
   ]
  },
  {
   "cell_type": "code",
   "execution_count": null,
   "metadata": {},
   "outputs": [],
   "source": []
  }
 ],
 "metadata": {
  "kernelspec": {
   "display_name": "Python 3",
   "language": "python",
   "name": "python3"
  },
  "language_info": {
   "codemirror_mode": {
    "name": "ipython",
    "version": 3
   },
   "file_extension": ".py",
   "mimetype": "text/x-python",
   "name": "python",
   "nbconvert_exporter": "python",
   "pygments_lexer": "ipython3",
   "version": "3.7.6"
  }
 },
 "nbformat": 4,
 "nbformat_minor": 4
}
